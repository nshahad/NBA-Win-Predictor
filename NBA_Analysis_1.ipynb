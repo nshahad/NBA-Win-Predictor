{
 "cells": [
  {
   "cell_type": "code",
   "execution_count": 9,
   "metadata": {},
   "outputs": [],
   "source": [
    "import pandas as pd"
   ]
  },
  {
   "cell_type": "code",
   "execution_count": 10,
   "metadata": {},
   "outputs": [],
   "source": [
    "data_games = pd.read_csv('games.csv')\n",
    "data_players = pd.read_csv('players.csv')\n",
    "data_games_details = pd.read_csv('games_details.csv')\n",
    "data_teams = pd.read_csv('teams.csv')\n",
    "data_ranking = pd.read_csv('ranking.csv')"
   ]
  },
  {
   "cell_type": "code",
   "execution_count": 11,
   "metadata": {},
   "outputs": [],
   "source": [
    "player1 = 'Hassan Whiteside'\n",
    "player2 = 'James Harden'\n",
    "player3 = 'Jamal Murray'"
   ]
  },
  {
   "cell_type": "code",
   "execution_count": 17,
   "metadata": {},
   "outputs": [
    {
     "name": "stdout",
     "output_type": "stream",
     "text": [
      "2\n",
      "[]\n",
      "[1610612745, 1610612745, 1610612745, 1610612745, 1610612745, 1610612745, 1610612745, 1610612745, 1610612760, 1610612760, 1610612760]\n",
      "[1610612743, 1610612743, 1610612743, 1610612743]\n"
     ]
    }
   ],
   "source": [
    "# Outputs a list of the Team ID's of a given player. (index 0 is 2019)\n",
    "\n",
    "player1_teams = data_players[data_players.PLAYER_NAME == player1]\n",
    "player2_teams = data_players[data_players.PLAYER_NAME == player2]\n",
    "player3_teams = data_players[data_players.PLAYER_NAME == player3]\n",
    "\n",
    "teams1 = []\n",
    "teams2 = []\n",
    "teams3 = []\n",
    "\n",
    "range1 = player1_teams.iloc[0][\"SEASON\"] - player1_teams.iloc[len(player1_teams) - 1][\"SEASON\"] + 1\n",
    "print(len(player1_teams[player1_teams.SEASON == 2014]))\n",
    "for x in range(range1):\n",
    "    season = 2019 - x\n",
    "    if len(player1_teams[player1_teams.SEASON == season]) > 0:\n",
    "        teams1.append(player1_teams[player1_teams.SEASON == season].iloc[0][\"TEAM_ID\"])\n",
    "    else:\n",
    "        teams1.append(1610612745) ##lol rando\n",
    "        \n",
    "    \n",
    "range2 = player2_teams.iloc[0][\"SEASON\"] - player2_teams.iloc[len(player2_teams) - 1][\"SEASON\"] + 1\n",
    "for x in range(range2):\n",
    "    season = 2019 - x\n",
    "    teams2.append(player2_teams[player2_teams.SEASON == season].iloc[0][\"TEAM_ID\"])\n",
    "\n",
    "range3 = player3_teams.iloc[0][\"SEASON\"] - player3_teams.iloc[len(player3_teams) - 1][\"SEASON\"] + 1\n",
    "for x in range(range3):\n",
    "    season = 2019 - x\n",
    "    teams3.append(player3_teams[player3_teams.SEASON == season].iloc[0][\"TEAM_ID\"])\n",
    "\n",
    "print(teams1)\n",
    "print(teams2)\n",
    "print(teams3)\n",
    "\n",
    "\n",
    "    "
   ]
  },
  {
   "cell_type": "code",
   "execution_count": 5,
   "metadata": {},
   "outputs": [],
   "source": [
    "# Outputs a list of the games of a given player. \n",
    "\n",
    "player1_games = data_games_details[data_games_details.PLAYER_NAME == player1]\n",
    "player1_games = player1_games[player1_games.MIN.notnull()]\n",
    "player2_games = data_games_details[data_games_details.PLAYER_NAME == player2]\n",
    "player2_games = player2_games[player2_games.MIN.notnull()]\n",
    "player3_games = data_games_details[data_games_details.PLAYER_NAME == player3]\n",
    "player3_games = player3_games[player3_games.MIN.notnull()]\n"
   ]
  },
  {
   "cell_type": "code",
   "execution_count": 8,
   "metadata": {},
   "outputs": [
    {
     "name": "stdout",
     "output_type": "stream",
     "text": [
      "16\n",
      "11\n"
     ]
    }
   ],
   "source": [
    "# Combine home/away mismatch into one loop\n",
    "\n",
    "# Big Work for Big Data (but fast..)\n",
    "\n",
    "years = min(len(teams1), len(teams2))\n",
    "player1_wins = 0\n",
    "player2_wins = 0\n",
    "for x in range(years):  #years\n",
    "    year = 2019 - x\n",
    "    Home_team_id = teams1[x]\n",
    "    Away_team_id = teams2[x]\n",
    "    home_team = data_games[data_games.HOME_TEAM_ID == Home_team_id]\n",
    "    games = home_team[home_team.VISITOR_TEAM_ID == Away_team_id]\n",
    "    refined_games = games[games.SEASON == year]\n",
    "    \n",
    "    for y in range(len(refined_games)):\n",
    "        players_game_id = refined_games.iloc[y][\"GAME_ID\"]\n",
    "        player1_played = False\n",
    "        player2_played = False\n",
    "        \n",
    "        player1_games_refined = player1_games[player1_games.GAME_ID == players_game_id]\n",
    "        if len(player1_games_refined) == 1:\n",
    "            player1_played = True\n",
    "        \n",
    "        player2_games_refined = player2_games[player2_games.GAME_ID == players_game_id]\n",
    "        if len(player2_games_refined) == 1:\n",
    "            player2_played = True\n",
    "\n",
    "        if player1_played and player2_played:\n",
    "            if refined_games.iloc[y][\"HOME_TEAM_WINS\"] == 1:\n",
    "                player1_wins += 1\n",
    "            else:\n",
    "                player2_wins += 1\n",
    " \n",
    "\n",
    "    home_team = data_games[data_games.HOME_TEAM_ID == Away_team_id]\n",
    "    games = home_team[home_team.VISITOR_TEAM_ID == Home_team_id]\n",
    "    refined_games = games[games.SEASON == year]\n",
    "    for y in range(len(refined_games)):\n",
    "        players_game_id = refined_games.iloc[y][\"GAME_ID\"]\n",
    "        player1_played = False\n",
    "        player2_played = False\n",
    "        \n",
    "        player1_games_refined = player1_games[player1_games.GAME_ID == players_game_id]\n",
    "        if len(player1_games_refined) == 1:\n",
    "            player1_played = True\n",
    "        \n",
    "        player2_games_refined = player2_games[player2_games.GAME_ID == players_game_id]\n",
    "        if len(player2_games_refined) == 1:\n",
    "            player2_played = True\n",
    "\n",
    "        if player1_played and player2_played:\n",
    "            if refined_games.iloc[y][\"HOME_TEAM_WINS\"] == 1:\n",
    "                player2_wins += 1\n",
    "            else:\n",
    "                player1_wins += 1\n",
    "    \n",
    "    \n",
    "print(player1_wins)\n",
    "print(player2_wins)    "
   ]
  },
  {
   "cell_type": "code",
   "execution_count": null,
   "metadata": {},
   "outputs": [],
   "source": []
  }
 ],
 "metadata": {
  "kernelspec": {
   "display_name": "Python 3",
   "language": "python",
   "name": "python3"
  },
  "language_info": {
   "codemirror_mode": {
    "name": "ipython",
    "version": 3
   },
   "file_extension": ".py",
   "mimetype": "text/x-python",
   "name": "python",
   "nbconvert_exporter": "python",
   "pygments_lexer": "ipython3",
   "version": "3.7.1"
  }
 },
 "nbformat": 4,
 "nbformat_minor": 4
}
